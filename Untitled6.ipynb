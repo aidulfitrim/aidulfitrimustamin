{
  "nbformat": 4,
  "nbformat_minor": 0,
  "metadata": {
    "colab": {
      "name": "Untitled6.ipynb",
      "provenance": [],
      "collapsed_sections": [],
      "toc_visible": true,
      "authorship_tag": "ABX9TyMMck9AdwGWcWEs4F2Qa7sv",
      "include_colab_link": true
    },
    "kernelspec": {
      "name": "python3",
      "display_name": "Python 3"
    },
    "language_info": {
      "name": "python"
    }
  },
  "cells": [
    {
      "cell_type": "markdown",
      "metadata": {
        "id": "view-in-github",
        "colab_type": "text"
      },
      "source": [
        "<a href=\"https://colab.research.google.com/github/aidulfitrim/aidulfitrimustamin/blob/main/Untitled6.ipynb\" target=\"_parent\"><img src=\"https://colab.research.google.com/assets/colab-badge.svg\" alt=\"Open In Colab\"/></a>"
      ]
    },
    {
      "cell_type": "code",
      "execution_count": 24,
      "metadata": {
        "colab": {
          "base_uri": "https://localhost:8080/"
        },
        "id": "MSIFOaQuNa_o",
        "outputId": "0dde7e83-0d6d-47df-96f6-8f9079253404"
      },
      "outputs": [
        {
          "output_type": "stream",
          "name": "stdout",
          "text": [
            "Jumlah Mahasiswa: 2\n",
            "\n",
            "Data ke - 1\n",
            "masukkan nama mahasiswa: 11\n",
            "Nilai Tugas \t\t: 1\n",
            "\n",
            "\n",
            "Data ke - 2\n",
            "masukkan nama mahasiswa: 1\n",
            "Nilai Tugas \t\t: 1\n",
            "\n"
          ]
        }
      ],
      "source": [
        "ulang=int(input('Jumlah Mahasiswa: '))\n",
        "for i in range(ulang):\n",
        "  print()\n",
        "  print('Data ke -', str(i+1))\n",
        "  no.append(str(i+1))\n",
        "  nama.append(input('masukkan nama mahasiswa: '))\n",
        "  tugas.append(int(input('Nilai Tugas \\t\\t: ')))\n",
        "  print()"
      ]
    },
    {
      "cell_type": "code",
      "source": [
        ""
      ],
      "metadata": {
        "id": "QLPdKtWYkW4X"
      },
      "execution_count": null,
      "outputs": []
    },
    {
      "cell_type": "code",
      "source": [
        ""
      ],
      "metadata": {
        "id": "moFiLYMvpB7z"
      },
      "execution_count": null,
      "outputs": []
    },
    {
      "cell_type": "code",
      "source": [
        "no=[]\n",
        "barang=[]\n",
        "total=[]\n",
        "harga=[]\n",
        "\n",
        "Total=int(input('Jumlah pembelian jenis barang yang ingin dibeli: '))\n",
        "for i in range(Total):\n",
        "  print()\n",
        "  print('Pembelian Barang ke -', str(i+1))\n",
        "  no.append(str(i+1))\n",
        "  barang.append(input('Harga satuan barang adalah: Rp. '))\n",
        "  total.append(int(input('Total barang yang ingin dibeli: ')))\n",
        "  print()\n",
        "\n",
        "print barang"
      ],
      "metadata": {
        "colab": {
          "base_uri": "https://localhost:8080/",
          "height": 130
        },
        "id": "nfzGaG4gSVTV",
        "outputId": "f0350a44-811f-4e6a-dcc5-cbe3c84b1087"
      },
      "execution_count": 38,
      "outputs": [
        {
          "output_type": "error",
          "ename": "SyntaxError",
          "evalue": "ignored",
          "traceback": [
            "\u001b[0;36m  File \u001b[0;32m\"<ipython-input-38-a5cf07b89b86>\"\u001b[0;36m, line \u001b[0;32m15\u001b[0m\n\u001b[0;31m    print barang\u001b[0m\n\u001b[0m               ^\u001b[0m\n\u001b[0;31mSyntaxError\u001b[0m\u001b[0;31m:\u001b[0m Missing parentheses in call to 'print'. Did you mean print(barang)?\n"
          ]
        }
      ]
    }
  ]
}