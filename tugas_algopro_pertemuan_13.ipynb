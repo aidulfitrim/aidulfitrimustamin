{
  "nbformat": 4,
  "nbformat_minor": 0,
  "metadata": {
    "colab": {
      "name": "tugas algopro pertemuan 13",
      "provenance": [],
      "collapsed_sections": [],
      "authorship_tag": "ABX9TyOGfnr5RlLINuJzc1g8/c8L",
      "include_colab_link": true
    },
    "kernelspec": {
      "name": "python3",
      "display_name": "Python 3"
    },
    "language_info": {
      "name": "python"
    }
  },
  "cells": [
    {
      "cell_type": "markdown",
      "metadata": {
        "id": "view-in-github",
        "colab_type": "text"
      },
      "source": [
        "<a href=\"https://colab.research.google.com/github/aidulfitrim/aidulfitrimustamin/blob/main/tugas_algopro_pertemuan_13.ipynb\" target=\"_parent\"><img src=\"https://colab.research.google.com/assets/colab-badge.svg\" alt=\"Open In Colab\"/></a>"
      ]
    },
    {
      "cell_type": "markdown",
      "source": [
        "Nama : **Aidul Fitri Mustamin**\n",
        "\n",
        "\n",
        "NIM  : **H051211038**"
      ],
      "metadata": {
        "id": "GVwDGQ_7_YS1"
      }
    },
    {
      "cell_type": "markdown",
      "source": [
        "**TUGAS ALGORITMA DAN PEMROGRAMAN**\n"
      ],
      "metadata": {
        "id": "-bKIMmzpiGLX"
      }
    },
    {
      "cell_type": "markdown",
      "source": [
        "Menghitung penjumlahan dua buah matriks"
      ],
      "metadata": {
        "id": "f8Z-9BS_vE20"
      }
    },
    {
      "cell_type": "code",
      "execution_count": null,
      "metadata": {
        "colab": {
          "base_uri": "https://localhost:8080/"
        },
        "id": "9Sl0CBUKlhdu",
        "outputId": "6ece409e-2c1a-4e44-9a24-1af85e7d54ab"
      },
      "outputs": [
        {
          "output_type": "stream",
          "name": "stdout",
          "text": [
            "[11, 15]\n",
            "[10, 10]\n",
            "Jadi, hasil penjumlahan 2 buah matriks tersebut adalah\n",
            "[[11, 15], [10, 10]]\n"
          ]
        }
      ],
      "source": [
        "MatriksA = [\n",
        "        [9, 7],\n",
        "        [4, 5],\n",
        "]\n",
        "MatriksB = [\n",
        "        [2, 8],\n",
        "        [6, 5],\n",
        "]\n",
        "MATC = []\n",
        "for i in range(0, len(MatriksA)):\n",
        "    hasil = 0\n",
        "    row =[]\n",
        "    for j in range(0, len(MatriksA[0])):\n",
        "        hasil = MatriksA[i][j] + MatriksB[i][j]\n",
        "        row.append(hasil)\n",
        "    print(row)\n",
        "    MATC.append(row)\n",
        "print('Jadi, hasil penjumlahan 2 buah matriks tersebut adalah')\n",
        "print(MATC)"
      ]
    },
    {
      "cell_type": "markdown",
      "source": [
        "1. Buatlah program untuk menghitung total pembelian N buah barang dengan harga dan jumlah tertentu"
      ],
      "metadata": {
        "id": "cJI9pe9C1Qzp"
      }
    },
    {
      "cell_type": "code",
      "source": [
        "BarangA = eval(input(\"Harga satuan Barang A adalah= Rp. \"))\n",
        "Total_BarangA =eval(input(\"Total Barang A yang Ingin Dibeli=\"))\n",
        "HargaBarangA= float(BarangA*Total_BarangA)\n",
        "print('Jadi, total harga pembelian adalah Rp. %1.f' %(HargaBarangA))\n",
        "\n",
        "BarangB = eval(input(\"Harga satuan Barang B adalah= Rp. \"))\n",
        "Total_BarangB =eval(input(\"Total Barang B yang Ingin Dibeli=\"))\n",
        "HargaBarangB= float(BarangB*Total_BarangB)\n",
        "print('Jadi, harga pembelian adalah Rp. %1.f' %(HargaBarangB))\n",
        "\n",
        "TotalPembelian=float(HargaBarangA + HargaBarangB)\n",
        "print('Jadi, total pembelian barang adalah RP. %1.f' %(TotalPembelian))"
      ],
      "metadata": {
        "colab": {
          "base_uri": "https://localhost:8080/"
        },
        "id": "jrCpfo9Q1lgS",
        "outputId": "4d08b083-c44e-4035-a4d5-c18650177686"
      },
      "execution_count": 38,
      "outputs": [
        {
          "output_type": "stream",
          "name": "stdout",
          "text": [
            "Harga satuan Barang A adalah= Rp. 12000\n",
            "Total Barang A yang Ingin Dibeli=1\n",
            "Jadi, total harga pembelian adalah Rp. 12000\n",
            "Harga satuan Barang B adalah= Rp. 10000\n",
            "Total Barang B yang Ingin Dibeli=2\n",
            "Jadi, harga pembelian adalah Rp. 20000\n",
            "Jadi, total pembelian barang adalah RP. 32000\n"
          ]
        }
      ]
    },
    {
      "cell_type": "markdown",
      "source": [
        "**ATAU**"
      ],
      "metadata": {
        "id": "YKf0hA0xK6I9"
      }
    },
    {
      "cell_type": "code",
      "source": [
        "total = 0\n",
        "barang = []\n",
        "harga = []\n",
        "\n",
        "while True:\n",
        "  print(\"\"\"Daftar Barang\\n\n",
        "  1. Air \\t 3000\n",
        "  2. Roti \\t 2000\n",
        "  3. Sosis \\t 4000\n",
        "  4. Telur \\t 3000\n",
        "  5. Sayur \\t 15000\n",
        "  6. Kopi \\t 7000\n",
        "  7. Susu \\t 5000\n",
        "  \"\"\")\n",
        "\n",
        "  kode=int(input(\"Masukkan kode barang : \"))\n",
        "  if kode == 1:\n",
        "    barang.append('Air')\n",
        "    harga.append(3000)\n",
        "    total += 5000\n",
        "  elif kode == 2:\n",
        "    barang.append('Roti')\n",
        "    harga.append('2000')\n",
        "    total += 2000\n",
        "  elif kode == 3:\n",
        "    barang.append('Sosis')\n",
        "    harga.append(4000)\n",
        "    total +=2000\n",
        "  elif kode == 4: \n",
        "    barang.append('Telur')\n",
        "    harga.append('3000')\n",
        "    total += 3000\n",
        "  elif kode == 5:\n",
        "    barang.append('Sayur')\n",
        "    harga.append('15000')\n",
        "    total += 15000\n",
        "  elif kode == 6:\n",
        "    barang.append('Kopi')\n",
        "    harga.append('7000')\n",
        "    total += 7000\n",
        "  elif kode == 7:\n",
        "    barang.append('Susu')\n",
        "    harga.append('5000')\n",
        "    total += 5000\n",
        "  else:\n",
        "    print('kode tidak valid')\n",
        "  lanjut = input('lanjut belanja (y/t) : ') \n",
        "  if lanjut == 't':\n",
        "    print(\"\")\n",
        "    break\n",
        "\n",
        "print('Barang yang dibeli : ', barang)\n",
        "print('Harga barangnya adalah : ', harga)\n",
        "print('Total yang harus dibayar adalah : ', total, '\\n')\n",
        "\n",
        "uang = int(input('Masukkan uang pembayaran : '))\n",
        "if uang > total:\n",
        "  print('Kembaliannya : ', uang - total)\n",
        "elif uang == total:\n",
        "  print('Uang pas dan sesuai pembayaran')\n",
        "else:\n",
        "  print('Uang kurang dari pembayaran', uang - total)\n",
        "\n",
        "print('Terima Kasih Atas Kunjungannya')"
      ],
      "metadata": {
        "colab": {
          "base_uri": "https://localhost:8080/"
        },
        "id": "iyJ66g0QHGFY",
        "outputId": "6323e278-3523-4140-9830-ced096adccba"
      },
      "execution_count": 42,
      "outputs": [
        {
          "output_type": "stream",
          "name": "stdout",
          "text": [
            "Daftar Barang\n",
            "\n",
            "  1. Air \t 3000\n",
            "  2. Roti \t 2000\n",
            "  3. Sosis \t 4000\n",
            "  4. Telur \t 3000\n",
            "  5. Sayur \t 15000\n",
            "  6. Kopi \t 7000\n",
            "  7. Susu \t 5000\n",
            "  \n",
            "Masukkan kode barang : 1\n",
            "lanjut belanja (y/t) : y\n",
            "Daftar Barang\n",
            "\n",
            "  1. Air \t 3000\n",
            "  2. Roti \t 2000\n",
            "  3. Sosis \t 4000\n",
            "  4. Telur \t 3000\n",
            "  5. Sayur \t 15000\n",
            "  6. Kopi \t 7000\n",
            "  7. Susu \t 5000\n",
            "  \n",
            "Masukkan kode barang : 3\n",
            "lanjut belanja (y/t) : y\n",
            "Daftar Barang\n",
            "\n",
            "  1. Air \t 3000\n",
            "  2. Roti \t 2000\n",
            "  3. Sosis \t 4000\n",
            "  4. Telur \t 3000\n",
            "  5. Sayur \t 15000\n",
            "  6. Kopi \t 7000\n",
            "  7. Susu \t 5000\n",
            "  \n",
            "Masukkan kode barang : 4\n",
            "lanjut belanja (y/t) : y\n",
            "Daftar Barang\n",
            "\n",
            "  1. Air \t 3000\n",
            "  2. Roti \t 2000\n",
            "  3. Sosis \t 4000\n",
            "  4. Telur \t 3000\n",
            "  5. Sayur \t 15000\n",
            "  6. Kopi \t 7000\n",
            "  7. Susu \t 5000\n",
            "  \n",
            "Masukkan kode barang : 7\n",
            "lanjut belanja (y/t) : t\n",
            "\n",
            "Barang yang dibeli :  ['Air', 'Sosis', 'Telur', 'Susu']\n",
            "Harga barangnya adalah :  [3000, 4000, '3000', '5000']\n",
            "Total yang harus dibayar adalah :  15000 \n",
            "\n",
            "Masukkan uang pembayaran : 15000\n",
            "Uang pas dan sesuai pembayaran\n",
            "Terima Kasih Atas Kunjungannya\n"
          ]
        }
      ]
    },
    {
      "cell_type": "markdown",
      "source": [
        "2. Buatlah program untuk menghitung banyaknya bilangan genap ataupun bilangan ganjil dari N buah bilangan yang diinput secara acak"
      ],
      "metadata": {
        "id": "E1wy7WCE_3Mb"
      }
    },
    {
      "cell_type": "code",
      "source": [
        "print(\"Input bilangan secara acak, jika bilangan yang diinput melebihi 1 silahkan menggunakan tanda koma \")\n",
        "Penginputan=input(\"Silahkan menginpit bilangan secara acak = \")\n",
        "Penginputan=Penginputan.split(\",\")\n",
        "print(Penginputan)\n",
        "\n",
        "countgenap=0\n",
        "countganjil=0\n",
        "\n",
        "for i in Penginputan:\n",
        "  if int(i)%2 == 0:\n",
        "    countgenap+=1\n",
        "  else:\n",
        "    countganjil+=1\n",
        "print()\n",
        "print(\"Total Bilangan genap adalah\", countgenap )\n",
        "print(\"Total Bilangan ganjil adalah\", countganjil)"
      ],
      "metadata": {
        "colab": {
          "base_uri": "https://localhost:8080/"
        },
        "id": "z6pCFH9tAGVr",
        "outputId": "b07a07c5-cf17-4852-e818-462a373da2fa"
      },
      "execution_count": 43,
      "outputs": [
        {
          "output_type": "stream",
          "name": "stdout",
          "text": [
            "Input bilangan secara acak, jika bilangan yang diinput melebihi 1 silahkan menggunakan tanda koma \n",
            "Silahkan menginpit bilangan secara acak = 1,2,4,6,8,10,12,13,15,17\n",
            "['1', '2', '4', '6', '8', '10', '12', '13', '15', '17']\n",
            "\n",
            "Total Bilangan genap adalah 6\n",
            "Total Bilangan ganjil adalah 4\n"
          ]
        }
      ]
    },
    {
      "cell_type": "markdown",
      "source": [
        "3. Buatlah program untuk menampilkan bilangan kelipatan 3 di antara bilangan tertentu"
      ],
      "metadata": {
        "id": "-AIexGGvtqNP"
      }
    },
    {
      "cell_type": "code",
      "source": [
        "awal=int(input('Set Nilai Awal= '))\n",
        "akhir=int(input('Set Nilai Akhir= '))\n",
        "print('Mencari bilangan kelipatan 3  pada bilangan : ')\n",
        "for n in range(awal,akhir+1):\n",
        "  print(n, end= ' ')\n",
        "\n",
        "print('\\nJadi, bilangan kelipatan 3 di antara bilangan %d dan %d adalah' %(awal,akhir))\n",
        "evens=[]\n",
        "\n",
        "for n in range(awal,akhir+1):\n",
        "  if n%3==0:\n",
        "      evens.append(n)\n",
        "print(evens)"
      ],
      "metadata": {
        "colab": {
          "base_uri": "https://localhost:8080/"
        },
        "id": "dlBF9SRst8m4",
        "outputId": "5bbdbc81-e059-4da5-dd0c-cbe4b6a78306"
      },
      "execution_count": 32,
      "outputs": [
        {
          "output_type": "stream",
          "name": "stdout",
          "text": [
            "Set Nilai Awal= 1\n",
            "Set Nilai Akhir= 15\n",
            "Mencari bilangan kelipatan 3  pada bilangan : \n",
            "1 2 3 4 5 6 7 8 9 10 11 12 13 14 15 \n",
            "Jadi, bilangan kelipatan 3 di antara bilangan 1 dan 15 adalah\n",
            "[3, 6, 9, 12, 15]\n"
          ]
        }
      ]
    },
    {
      "cell_type": "markdown",
      "source": [
        "4. Buatlah program untuk menampilkan bentuk bilangan seperti berikut ini:\n",
        "Bilangan=<input suatu bilangan (misal:5)>\n",
        "\n",
        "1\n",
        "\n",
        "12\n",
        "\n",
        "123\n",
        "\n",
        "1234\n",
        "\n",
        "12345"
      ],
      "metadata": {
        "id": "pXtuNT7Wdf6L"
      }
    },
    {
      "cell_type": "code",
      "source": [
        "rows=int(input('Nilai dari kolom- '))\n",
        "for i in range(rows):\n",
        "  for j in range(i+1):\n",
        "    print(j+1,end=' ')\n",
        "  print('\\n')"
      ],
      "metadata": {
        "colab": {
          "base_uri": "https://localhost:8080/"
        },
        "id": "NV9WiJeWd8jY",
        "outputId": "fdd39f59-3fe0-4762-fe8e-8de966f86039"
      },
      "execution_count": 39,
      "outputs": [
        {
          "output_type": "stream",
          "name": "stdout",
          "text": [
            "Nilai dari kolom- 5\n",
            "1 \n",
            "\n",
            "1 2 \n",
            "\n",
            "1 2 3 \n",
            "\n",
            "1 2 3 4 \n",
            "\n",
            "1 2 3 4 5 \n",
            "\n"
          ]
        }
      ]
    },
    {
      "cell_type": "markdown",
      "source": [
        "5. Buatlah program untuk menghitung dan menampilkan bentuk berikut ini"
      ],
      "metadata": {
        "id": "-BhpxriGeQTI"
      }
    },
    {
      "cell_type": "code",
      "source": [
        "print(\"Program Menghitung Nilai Akhir Mahasiswa\")\n",
        "list_no=[]\n",
        "list_nama=[]\n",
        "list_tugas=[]\n",
        "list_kuis=[]\n",
        "list_uts=[]\n",
        "list_uas=[]\n",
        "list_nilaiakhir=[]\n",
        "\n",
        "program=int(input('Banyak Data Mahasiswa : '))\n",
        "for i in range(program):\n",
        "  print()\n",
        "  print('Input Data Ke- ' + str(i+1))\n",
        "  list_no.append(str(i+1))\n",
        "  list_nama.append(input('Masukkan Nama Mahasiswa : '))\n",
        "  list_tugas.append(int(input('Masukkan Nilai Tugas : ')))\n",
        "  list_kuis.append(int(input('Masukkan Nilai Kuis : ')))\n",
        "  list_uts.append(int(input('Masukkan Nilai Ujian Tengah Semester : ')))\n",
        "  list_uas.append(int(input('Masukkan Nilai Ujian Akhir Semester : ')))\n",
        "\n",
        "#Proses Perhitungan\n",
        "for i in range(program):\n",
        "  list_nilaiakhir.append((list_tugas[i] + list_kuis[i] + list_uas[i] + list_uts[i]) / 4)\n",
        "\n",
        "\n",
        "#Program Menampilkan Tabel\n",
        "print(\"-------------------------------------------------------------------------------------------------------\")\n",
        "print(\"No.  Nama Mahasiswa       N.Tugas         N.Kuis          N.UTS          N.UAS        Nilai Akhir\")\n",
        "print(\"-------------------------------------------------------------------------------------------------------\")\n",
        "for i in range(program):\n",
        "  print(list_no[i],\"\\t\",list_nama[i],\"\\t\\t\",list_tugas[i],\"\\t\\t\",list_kuis[i],\"\\t\\t\",list_uts[i],\"\\t\\t\",list_uas[i],\"\\t\\t\",list_nilaiakhir[i])\n",
        "print(\"-------------------------------------------------------------------------------------------------------\")\n",
        "\n"
      ],
      "metadata": {
        "colab": {
          "base_uri": "https://localhost:8080/"
        },
        "id": "08inr1E-d4sE",
        "outputId": "e802df31-15bd-4e7c-8b61-314f5000728d"
      },
      "execution_count": 72,
      "outputs": [
        {
          "output_type": "stream",
          "name": "stdout",
          "text": [
            "Program Menghitung Nilai Akhir Mahasiswa\n",
            "Banyak Data Mahasiswa : 5\n",
            "\n",
            "Input Data Ke- 1\n",
            "Masukkan Nama Mahasiswa : Peter Han\n",
            "Masukkan Nilai Tugas : 90\n",
            "Masukkan Nilai Kuis : 87\n",
            "Masukkan Nilai Ujian Tengah Semester : 89\n",
            "Masukkan Nilai Ujian Akhir Semester : 94\n",
            "\n",
            "Input Data Ke- 2\n",
            "Masukkan Nama Mahasiswa : Christ Bahng\n",
            "Masukkan Nilai Tugas : 87\n",
            "Masukkan Nilai Kuis : 88\n",
            "Masukkan Nilai Ujian Tengah Semester : 67\n",
            "Masukkan Nilai Ujian Akhir Semester : 78\n",
            "\n",
            "Input Data Ke- 3\n",
            "Masukkan Nama Mahasiswa : Sam Hwang\n",
            "Masukkan Nilai Tugas : 78\n",
            "Masukkan Nilai Kuis : 80\n",
            "Masukkan Nilai Ujian Tengah Semester : 67\n",
            "Masukkan Nilai Ujian Akhir Semester : 80\n",
            "\n",
            "Input Data Ke- 4\n",
            "Masukkan Nama Mahasiswa : Sky Kim\n",
            "Masukkan Nilai Tugas : 67\n",
            "Masukkan Nilai Kuis : 80\n",
            "Masukkan Nilai Ujian Tengah Semester : 90\n",
            "Masukkan Nilai Ujian Akhir Semester : 95\n",
            "\n",
            "Input Data Ke- 5\n",
            "Masukkan Nama Mahasiswa : Felix Lee\n",
            "Masukkan Nilai Tugas : 78\n",
            "Masukkan Nilai Kuis : 90\n",
            "Masukkan Nilai Ujian Tengah Semester : 95\n",
            "Masukkan Nilai Ujian Akhir Semester : 79\n",
            "-------------------------------------------------------------------------------------------------------\n",
            "No.  Nama Mahasiswa       N.Tugas         N.Kuis          N.UTS          N.UAS        Nilai Akhir\n",
            "-------------------------------------------------------------------------------------------------------\n",
            "1 \t Peter Han \t\t 90 \t\t 87 \t\t 89 \t\t 94 \t\t 90.0\n",
            "2 \t Christ Bahng \t\t 87 \t\t 88 \t\t 67 \t\t 78 \t\t 80.0\n",
            "3 \t Sam Hwang \t\t 78 \t\t 80 \t\t 67 \t\t 80 \t\t 76.25\n",
            "4 \t Sky Kim \t\t 67 \t\t 80 \t\t 90 \t\t 95 \t\t 83.0\n",
            "5 \t Felix Lee \t\t 78 \t\t 90 \t\t 95 \t\t 79 \t\t 85.5\n",
            "-------------------------------------------------------------------------------------------------------\n"
          ]
        }
      ]
    }
  ]
}